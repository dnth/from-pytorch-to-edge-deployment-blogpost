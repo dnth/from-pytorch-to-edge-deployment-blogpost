{
 "cells": [
  {
   "cell_type": "code",
   "execution_count": 2,
   "metadata": {},
   "outputs": [],
   "source": [
    "import torch\n",
    "from torch.utils.mobile_optimizer import optimize_for_mobile\n",
    "\n",
    "import timm\n",
    "model = timm.create_model('convnextv2_base.fcmae_ft_in22k_in1k', pretrained=True)\n",
    "model = model.eval()\n",
    "\n",
    "model.eval()\n",
    "example = torch.rand(1, 3, 224, 224)\n",
    "traced_script_module = torch.jit.trace(model, example)\n",
    "optimized_traced_model = optimize_for_mobile(traced_script_module)\n",
    "optimized_traced_model._save_for_lite_interpreter(\"convnextv2_base.fcmae_ft_in22k_in1k_torchscript.pt\")"
   ]
  },
  {
   "cell_type": "code",
   "execution_count": 6,
   "metadata": {},
   "outputs": [],
   "source": [
    "from urllib.request import urlopen\n",
    "from PIL import Image\n",
    "import torchvision\n",
    "img = Image.open(urlopen(\n",
    "    'https://huggingface.co/datasets/huggingface/documentation-images/resolve/main/beignets-task-guide.png'\n",
    "))\n",
    "\n",
    "# load image into tensor\n",
    "input_tensor = torchvision.transforms.functional.to_tensor(img).unsqueeze(0)"
   ]
  },
  {
   "cell_type": "code",
   "execution_count": 8,
   "metadata": {},
   "outputs": [
    {
     "data": {
      "text/plain": [
       "torch.Size([1, 3, 512, 512])"
      ]
     },
     "execution_count": 8,
     "metadata": {},
     "output_type": "execute_result"
    }
   ],
   "source": [
    "input_tensor.shape"
   ]
  },
  {
   "cell_type": "code",
   "execution_count": 13,
   "metadata": {},
   "outputs": [
    {
     "name": "stdout",
     "output_type": "stream",
     "text": [
      "Total time: 23.2428 seconds\n",
      "Average time per image: 2.3243 seconds\n",
      "FPS: 0.43\n"
     ]
    }
   ],
   "source": [
    "import time\n",
    "import torchvision.transforms as transforms\n",
    "\n",
    "# Define the transformation\n",
    "transform = transforms.Compose([\n",
    "    transforms.Resize((224, 224)),\n",
    "    transforms.ToTensor(),\n",
    "    transforms.Normalize(mean=[0.485, 0.456, 0.406], std=[0.229, 0.224, 0.225]),\n",
    "])\n",
    "\n",
    "# Load the saved TorchScript model\n",
    "loaded_model = torch.jit.load(\"convnextv2_base.fcmae_ft_in22k_in1k_torchscript.pt\")\n",
    "\n",
    "num_images = 10\n",
    "\n",
    "with torch.inference_mode():\n",
    "    start = time.perf_counter()\n",
    "    for _ in range(num_images):\n",
    "        output = loaded_model(transform(img).unsqueeze(0))\n",
    "    end = time.perf_counter()\n",
    "    time_taken = end - start\n",
    "\n",
    "average_time = time_taken / num_images\n",
    "print(f\"Total time: {time_taken:.4f} seconds\")\n",
    "print(f\"Average time per image: {average_time:.4f} seconds\")\n",
    "print(f\"FPS: {1/average_time:.2f}\")"
   ]
  },
  {
   "cell_type": "code",
   "execution_count": null,
   "metadata": {},
   "outputs": [],
   "source": []
  }
 ],
 "metadata": {
  "kernelspec": {
   "display_name": "pt-to-edge-blog",
   "language": "python",
   "name": "python3"
  },
  "language_info": {
   "codemirror_mode": {
    "name": "ipython",
    "version": 3
   },
   "file_extension": ".py",
   "mimetype": "text/x-python",
   "name": "python",
   "nbconvert_exporter": "python",
   "pygments_lexer": "ipython3",
   "version": "3.11.9"
  }
 },
 "nbformat": 4,
 "nbformat_minor": 2
}
