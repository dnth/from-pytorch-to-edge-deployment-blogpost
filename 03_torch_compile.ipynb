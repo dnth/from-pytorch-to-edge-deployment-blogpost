{
 "cells": [
  {
   "cell_type": "code",
   "execution_count": 1,
   "id": "537bb244-50c7-45d1-a298-bc223b764240",
   "metadata": {
    "tags": []
   },
   "outputs": [
    {
     "name": "stderr",
     "output_type": "stream",
     "text": [
      "/home/dnth/.local/lib/python3.10/site-packages/tqdm/auto.py:21: TqdmWarning: IProgress not found. Please update jupyter and ipywidgets. See https://ipywidgets.readthedocs.io/en/stable/user_install.html\n",
      "  from .autonotebook import tqdm as notebook_tqdm\n"
     ]
    }
   ],
   "source": [
    "from urllib.request import urlopen\n",
    "from PIL import Image\n",
    "import timm\n",
    "import torch\n",
    "\n",
    "img = Image.open(urlopen(\n",
    "    'https://huggingface.co/datasets/huggingface/documentation-images/resolve/main/beignets-task-guide.png'\n",
    "))\n",
    "\n",
    "model = timm.create_model('convnext_xxlarge.clip_laion2b_soup_ft_in1k', pretrained=True)\n",
    "model = model.eval()\n",
    "\n",
    "# get model specific transforms (normalization, resize)\n",
    "data_config = timm.data.resolve_model_data_config(model)\n",
    "transforms = timm.data.create_transform(**data_config, is_training=False)"
   ]
  },
  {
   "cell_type": "markdown",
   "id": "71597fb0-a0d8-4d55-9f25-3e73deda327c",
   "metadata": {},
   "source": [
    "## Compile to ONNX Runtime"
   ]
  },
  {
   "cell_type": "code",
   "execution_count": 16,
   "id": "90ef29f6-6c23-4ccd-ad68-60d8504cea69",
   "metadata": {
    "tags": []
   },
   "outputs": [],
   "source": [
    "onnxrt_model = torch.compile(model, backend='onnxrt')"
   ]
  },
  {
   "cell_type": "code",
   "execution_count": 17,
   "id": "5f852d88-9115-49f8-8643-6fe509cf808a",
   "metadata": {
    "tags": []
   },
   "outputs": [
    {
     "name": "stdout",
     "output_type": "stream",
     "text": [
      "1.22 s ± 184 ms per loop (mean ± std. dev. of 7 runs, 1 loop each)\n"
     ]
    }
   ],
   "source": [
    "%%timeit\n",
    "output = onnxrt_model(transforms(img).unsqueeze(0))  # unsqueeze single image into batch of 1"
   ]
  },
  {
   "cell_type": "markdown",
   "id": "4b68a9f8-d7e6-4cda-85d4-493a30be38fc",
   "metadata": {},
   "source": [
    "## Compile to CUDA Graphs"
   ]
  },
  {
   "cell_type": "code",
   "execution_count": 18,
   "id": "0462c760-1105-40b4-b173-285ef3ac3f19",
   "metadata": {
    "tags": []
   },
   "outputs": [],
   "source": [
    "cuda_model = torch.compile(model, backend='cudagraphs')"
   ]
  },
  {
   "cell_type": "code",
   "execution_count": 19,
   "id": "6ed573cf-df9a-4da2-a829-4e8d684bc85d",
   "metadata": {
    "tags": []
   },
   "outputs": [
    {
     "name": "stdout",
     "output_type": "stream",
     "text": [
      "1.24 s ± 4.33 ms per loop (mean ± std. dev. of 7 runs, 1 loop each)\n"
     ]
    }
   ],
   "source": [
    "%%timeit\n",
    "output = cuda_model(transforms(img).unsqueeze(0))  # unsqueeze single image into batch of 1"
   ]
  },
  {
   "cell_type": "markdown",
   "id": "4b89f571-50b3-483a-a7aa-fdd750ef279f",
   "metadata": {},
   "source": [
    "## Torch Inductor Backend"
   ]
  },
  {
   "cell_type": "code",
   "execution_count": 20,
   "id": "6673e74e-d90d-410a-ba92-2913957439b1",
   "metadata": {
    "tags": []
   },
   "outputs": [],
   "source": [
    "inductor_model = torch.compile(model, backend='inductor')"
   ]
  },
  {
   "cell_type": "code",
   "execution_count": 21,
   "id": "b6bd50e0-1fd8-4d59-946f-1634354cfd6a",
   "metadata": {
    "tags": []
   },
   "outputs": [
    {
     "name": "stdout",
     "output_type": "stream",
     "text": [
      "832 ms ± 1.89 ms per loop (mean ± std. dev. of 7 runs, 1 loop each)\n"
     ]
    }
   ],
   "source": [
    "%%timeit\n",
    "output = inductor_model(transforms(img).unsqueeze(0))  # unsqueeze single image into batch of 1"
   ]
  },
  {
   "cell_type": "markdown",
   "id": "b772384a-df94-4439-b387-a464a5551b0a",
   "metadata": {},
   "source": [
    "## TVM backend"
   ]
  },
  {
   "cell_type": "code",
   "execution_count": 22,
   "id": "b2706c1f-7563-4e10-8a05-3b6e4b5d5cfe",
   "metadata": {
    "tags": []
   },
   "outputs": [],
   "source": [
    "tvm_model = torch.compile(model, backend='tvm')"
   ]
  },
  {
   "cell_type": "code",
   "execution_count": 23,
   "id": "b1282e41-8f03-4792-a25b-269dc3131741",
   "metadata": {
    "tags": []
   },
   "outputs": [
    {
     "name": "stdout",
     "output_type": "stream",
     "text": [
      "859 ms ± 44 ms per loop (mean ± std. dev. of 7 runs, 1 loop each)\n"
     ]
    }
   ],
   "source": [
    "%%timeit\n",
    "output = tvm_model(transforms(img).unsqueeze(0))  # unsqueeze single image into batch of 1"
   ]
  },
  {
   "cell_type": "markdown",
   "id": "b62df658-86c8-46e8-97b0-fd15094bb80f",
   "metadata": {},
   "source": [
    "## Max autottune"
   ]
  },
  {
   "cell_type": "code",
   "execution_count": 24,
   "id": "bf17e44a-dcee-4299-9904-6d743b7db6ad",
   "metadata": {
    "tags": []
   },
   "outputs": [],
   "source": [
    "max_auto_model = torch.compile(model, backend='inductor', mode='max-autotune')"
   ]
  },
  {
   "cell_type": "code",
   "execution_count": 25,
   "id": "cbfc18e4-5b19-4614-933b-f71a3fd089d8",
   "metadata": {
    "tags": []
   },
   "outputs": [
    {
     "name": "stdout",
     "output_type": "stream",
     "text": [
      "847 ms ± 14.1 ms per loop (mean ± std. dev. of 7 runs, 1 loop each)\n"
     ]
    }
   ],
   "source": [
    "%%timeit\n",
    "output = max_auto_model(transforms(img).unsqueeze(0))  # unsqueeze single image into batch of 1"
   ]
  },
  {
   "cell_type": "code",
   "execution_count": null,
   "id": "20c196d4-dc23-46fd-820c-b5d4be2f4410",
   "metadata": {},
   "outputs": [],
   "source": []
  }
 ],
 "metadata": {
  "kernelspec": {
   "display_name": "Python 3 (ipykernel)",
   "language": "python",
   "name": "python3"
  },
  "language_info": {
   "codemirror_mode": {
    "name": "ipython",
    "version": 3
   },
   "file_extension": ".py",
   "mimetype": "text/x-python",
   "name": "python",
   "nbconvert_exporter": "python",
   "pygments_lexer": "ipython3",
   "version": "3.10.13"
  }
 },
 "nbformat": 4,
 "nbformat_minor": 5
}
