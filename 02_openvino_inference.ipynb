{
 "cells": [
  {
   "cell_type": "markdown",
   "id": "36be2e41-1e72-4afd-a8fe-ac7365dd2c96",
   "metadata": {},
   "source": [
    "## Convert ONNX model to OpenVINO IR"
   ]
  },
  {
   "cell_type": "code",
   "execution_count": 1,
   "id": "2fce5298-7923-494c-a9d1-d7300696638e",
   "metadata": {
    "tags": []
   },
   "outputs": [],
   "source": [
    "import openvino as ov\n",
    "ov_model = ov.convert_model(\"convnextv2_base.fcmae_ft_in22k_in1k.onnx\")\n",
    "ov.save_model(ov_model, 'convnextv2_base.fcmae_ft_in22k_in1k.xml')"
   ]
  },
  {
   "cell_type": "markdown",
   "id": "a988df4b-8065-4168-a693-424fd2ba8d2b",
   "metadata": {},
   "source": [
    "## Inference with OpenVINO"
   ]
  },
  {
   "cell_type": "code",
   "execution_count": 2,
   "id": "28c16af1-b969-4ad7-b7a3-1e2145cd93a8",
   "metadata": {
    "tags": []
   },
   "outputs": [],
   "source": [
    "compiled_model = ov.compile_model(ov_model)"
   ]
  },
  {
   "cell_type": "code",
   "execution_count": 3,
   "id": "8e5bbc94-4ea4-4a09-874f-b050e8698907",
   "metadata": {
    "tags": []
   },
   "outputs": [],
   "source": [
    "import numpy as np\n",
    "input_data = np.random.rand(1, 3, 224, 224)"
   ]
  },
  {
   "cell_type": "code",
   "execution_count": 4,
   "id": "1604d566-777a-4e62-be26-7403bf5f1e28",
   "metadata": {
    "tags": []
   },
   "outputs": [],
   "source": [
    "import time\n",
    "num_images = 100\n",
    "\n",
    "start = time.perf_counter()\n",
    "for _ in range(num_images):\n",
    "    compiled_model(input_data)\n",
    "end = time.perf_counter()\n",
    "time_taken = end - start"
   ]
  },
  {
   "cell_type": "code",
   "execution_count": 5,
   "id": "a59c5b5a-87b8-4e3d-b8c0-487a4bbcc41b",
   "metadata": {
    "tags": []
   },
   "outputs": [
    {
     "name": "stdout",
     "output_type": "stream",
     "text": [
      "OpenVINO + CPU: 96.904 ms per image,\n",
      "FPS: 10.32\n"
     ]
    }
   ],
   "source": [
    "print(\n",
    "    f\"OpenVINO + CPU: {time_taken/num_images*1000:.3f} ms per image,\\n\"\n",
    "    f\"FPS: {num_images/time_taken:.2f}\")"
   ]
  },
  {
   "cell_type": "code",
   "execution_count": 6,
   "id": "072204e4-1c96-4424-85f7-4e0fd2cadd3c",
   "metadata": {
    "tags": []
   },
   "outputs": [
    {
     "data": {
      "text/plain": [
       "(1, 1000)"
      ]
     },
     "execution_count": 6,
     "metadata": {},
     "output_type": "execute_result"
    }
   ],
   "source": [
    "result = compiled_model(input_data)\n",
    "result = compiled_model(input_data)\n",
    "result['output'].shape"
   ]
  },
  {
   "cell_type": "code",
   "execution_count": null,
   "id": "117f0f94-e2bf-4e97-89c0-3db3e760a111",
   "metadata": {},
   "outputs": [],
   "source": []
  }
 ],
 "metadata": {
  "kernelspec": {
   "display_name": "Python 3 (ipykernel)",
   "language": "python",
   "name": "python3"
  },
  "language_info": {
   "codemirror_mode": {
    "name": "ipython",
    "version": 3
   },
   "file_extension": ".py",
   "mimetype": "text/x-python",
   "name": "python",
   "nbconvert_exporter": "python",
   "pygments_lexer": "ipython3",
   "version": "3.10.13"
  }
 },
 "nbformat": 4,
 "nbformat_minor": 5
}
