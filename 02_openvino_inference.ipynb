{
 "cells": [
  {
   "cell_type": "markdown",
   "id": "a988df4b-8065-4168-a693-424fd2ba8d2b",
   "metadata": {},
   "source": [
    "## Inference with OpenVINO"
   ]
  },
  {
   "cell_type": "code",
   "execution_count": 1,
   "id": "2fce5298-7923-494c-a9d1-d7300696638e",
   "metadata": {
    "tags": []
   },
   "outputs": [],
   "source": [
    "import openvino as ov\n",
    "ov_model = ov.convert_model(\"convnext_xxlarge.clip_laion2b_soup_ft_in1k.onnx\",)\n",
    "\n",
    "###### Option 1: Save to OpenVINO IR:\n",
    "\n",
    "# save model to OpenVINO IR for later use\n",
    "ov.save_model(ov_model, 'convnext_xxlarge.clip_laion2b_soup_ft_in1k.xml')\n",
    "\n",
    "###### Option 2: Compile and infer with OpenVINO:\n",
    "\n",
    "# compile model\n",
    "compiled_model = ov.compile_model(ov_model)"
   ]
  },
  {
   "cell_type": "code",
   "execution_count": 2,
   "id": "8e5bbc94-4ea4-4a09-874f-b050e8698907",
   "metadata": {
    "tags": []
   },
   "outputs": [],
   "source": [
    "# prepare input_data\n",
    "import numpy as np\n",
    "input_data = np.random.rand(1, 3, 224, 224)"
   ]
  },
  {
   "cell_type": "code",
   "execution_count": 3,
   "id": "3690dc34-fd3b-4f58-a1b7-05e70904cab0",
   "metadata": {
    "tags": []
   },
   "outputs": [
    {
     "name": "stdout",
     "output_type": "stream",
     "text": [
      "1.53 s ± 45.6 ms per loop (mean ± std. dev. of 7 runs, 1 loop each)\n"
     ]
    }
   ],
   "source": [
    "%%timeit\n",
    "# run inference\n",
    "result = compiled_model(input_data)"
   ]
  },
  {
   "cell_type": "code",
   "execution_count": 5,
   "id": "072204e4-1c96-4424-85f7-4e0fd2cadd3c",
   "metadata": {
    "tags": []
   },
   "outputs": [
    {
     "data": {
      "text/plain": [
       "(1, 1000)"
      ]
     },
     "execution_count": 5,
     "metadata": {},
     "output_type": "execute_result"
    }
   ],
   "source": [
    "result = compiled_model(input_data)\n",
    "result['output'].shape"
   ]
  },
  {
   "cell_type": "code",
   "execution_count": null,
   "id": "117f0f94-e2bf-4e97-89c0-3db3e760a111",
   "metadata": {},
   "outputs": [],
   "source": []
  }
 ],
 "metadata": {
  "kernelspec": {
   "display_name": "Python 3 (ipykernel)",
   "language": "python",
   "name": "python3"
  },
  "language_info": {
   "codemirror_mode": {
    "name": "ipython",
    "version": 3
   },
   "file_extension": ".py",
   "mimetype": "text/x-python",
   "name": "python",
   "nbconvert_exporter": "python",
   "pygments_lexer": "ipython3",
   "version": "3.10.13"
  }
 },
 "nbformat": 4,
 "nbformat_minor": 5
}
