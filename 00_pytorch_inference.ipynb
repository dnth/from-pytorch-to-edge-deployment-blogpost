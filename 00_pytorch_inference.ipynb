{
 "cells": [
  {
   "cell_type": "markdown",
   "id": "a62a5dc9-e8d8-46bd-b1bf-c34afd7b12f2",
   "metadata": {},
   "source": [
    "## Inference using PyTorch"
   ]
  },
  {
   "cell_type": "code",
   "execution_count": 5,
   "id": "143bf4f3-c324-406a-953d-b395e9fa2fdd",
   "metadata": {
    "tags": []
   },
   "outputs": [],
   "source": [
    "from urllib.request import urlopen\n",
    "from PIL import Image\n",
    "import timm\n",
    "import torch\n",
    "\n",
    "img = Image.open(urlopen(\n",
    "    'https://huggingface.co/datasets/huggingface/documentation-images/resolve/main/beignets-task-guide.png'\n",
    "))\n",
    "\n",
    "model = timm.create_model('convnext_xxlarge.clip_laion2b_soup_ft_in1k', pretrained=True)\n",
    "model = model.eval()\n",
    "\n",
    "# get model specific transforms (normalization, resize)\n",
    "data_config = timm.data.resolve_model_data_config(model)\n",
    "transforms = timm.data.create_transform(**data_config, is_training=False)"
   ]
  },
  {
   "cell_type": "code",
   "execution_count": 10,
   "id": "838c29f7-f944-4f4e-a4fb-63be9601de02",
   "metadata": {
    "tags": []
   },
   "outputs": [
    {
     "name": "stdout",
     "output_type": "stream",
     "text": [
      "CPU times: user 13.3 s, sys: 1.65 s, total: 15 s\n",
      "Wall time: 2 s\n"
     ]
    }
   ],
   "source": [
    "%%time\n",
    "output = model(transforms(img).unsqueeze(0))  # unsqueeze single image into batch of 1"
   ]
  },
  {
   "cell_type": "code",
   "execution_count": 11,
   "id": "22890708-c11e-408a-9cef-55d261c9d13c",
   "metadata": {
    "tags": []
   },
   "outputs": [],
   "source": [
    "top5_probabilities, top5_class_indices = torch.topk(output.softmax(dim=1) * 100, k=5)"
   ]
  },
  {
   "cell_type": "code",
   "execution_count": 12,
   "id": "ab064c20-3206-441b-ab45-e6b0d87aa64f",
   "metadata": {
    "tags": []
   },
   "outputs": [
    {
     "data": {
      "text/plain": [
       "tensor([[26.7182, 19.6078, 14.5289,  3.2042,  3.1681]],\n",
       "       grad_fn=<TopkBackward0>)"
      ]
     },
     "execution_count": 12,
     "metadata": {},
     "output_type": "execute_result"
    }
   ],
   "source": [
    "top5_probabilities"
   ]
  },
  {
   "cell_type": "code",
   "execution_count": 13,
   "id": "fc7256d8-74e7-4217-ac6f-cf2a21c1bd60",
   "metadata": {
    "tags": []
   },
   "outputs": [
    {
     "data": {
      "text/plain": [
       "tensor([[967, 968, 960, 504, 868]])"
      ]
     },
     "execution_count": 13,
     "metadata": {},
     "output_type": "execute_result"
    }
   ],
   "source": [
    "top5_class_indices"
   ]
  },
  {
   "cell_type": "code",
   "execution_count": null,
   "id": "28560851-1a76-4a39-a18a-107394a41981",
   "metadata": {},
   "outputs": [],
   "source": []
  },
  {
   "cell_type": "code",
   "execution_count": null,
   "id": "f362adea-fc70-4e2d-abc5-48a15c7c58a9",
   "metadata": {},
   "outputs": [],
   "source": []
  }
 ],
 "metadata": {
  "kernelspec": {
   "display_name": "Python 3 (ipykernel)",
   "language": "python",
   "name": "python3"
  },
  "language_info": {
   "codemirror_mode": {
    "name": "ipython",
    "version": 3
   },
   "file_extension": ".py",
   "mimetype": "text/x-python",
   "name": "python",
   "nbconvert_exporter": "python",
   "pygments_lexer": "ipython3",
   "version": "3.10.13"
  }
 },
 "nbformat": 4,
 "nbformat_minor": 5
}
