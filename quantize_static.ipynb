{
 "cells": [
  {
   "cell_type": "code",
   "execution_count": 1,
   "id": "f6c16434-5476-4af4-aa00-a2e8b4b35535",
   "metadata": {
    "tags": []
   },
   "outputs": [],
   "source": [
    "from onnxruntime.quantization import QuantFormat, QuantType, quantize_static\n",
    "import resnet50_data_reader"
   ]
  },
  {
   "cell_type": "code",
   "execution_count": 2,
   "id": "31036633-ec4f-4052-9de2-0a5f8c8eb3fa",
   "metadata": {
    "tags": []
   },
   "outputs": [],
   "source": [
    "dr = resnet50_data_reader.ResNet50DataReader(\n",
    "        \"test_images\", \"efficientvit_b0.r224_in1k_simplified.onnx\"\n",
    "    )"
   ]
  },
  {
   "cell_type": "code",
   "execution_count": 3,
   "id": "36e69cd0-a86b-4e07-ac61-d3bcec051d21",
   "metadata": {
    "tags": []
   },
   "outputs": [
    {
     "name": "stderr",
     "output_type": "stream",
     "text": [
      "WARNING:root:Please consider pre-processing before quantization. See https://github.com/microsoft/onnxruntime-inference-examples/blob/main/quantization/image_classification/cpu/ReadMe.md \n",
      "WARNING:root:Please consider pre-processing before quantization. See https://github.com/microsoft/onnxruntime-inference-examples/blob/main/quantization/image_classification/cpu/ReadMe.md \n"
     ]
    }
   ],
   "source": [
    "quantize_static(\n",
    "        \"efficientvit_b0.r224_in1k_simplified.onnx\",\n",
    "        \"efficientvit_b0.r224_in1k_simplified_quantized_static.onnx\",\n",
    "        dr,\n",
    "        quant_format=QuantFormat.QDQ,\n",
    "        per_channel=True,\n",
    "        weight_type=QuantType.QInt8,\n",
    "    )"
   ]
  },
  {
   "cell_type": "code",
   "execution_count": 4,
   "id": "cab0ed25-79d4-418d-ba02-80031833fa12",
   "metadata": {
    "tags": []
   },
   "outputs": [],
   "source": [
    "import numpy as np\n",
    "import onnxruntime as ort\n",
    "from PIL import Image\n",
    "from urllib.request import urlopen\n",
    "\n",
    "#define the priority order for the execution providers\n",
    "\n",
    "# prefer CUDA Execution Provider over CPU Execution Provider\n",
    "EP_list = ['CPUExecutionProvider']\n",
    "\n",
    "# Load ONNX model\n",
    "session = ort.InferenceSession(\"efficientvit_b0.r224_in1k_simplified_quantized_static.onnx\", providers=EP_list)\n",
    "\n",
    "# session.set_providers(['CPUExecutionProvider'])\n",
    "\n",
    "# Load an image\n",
    "img = Image.open(urlopen('https://huggingface.co/datasets/huggingface/documentation-images/resolve/main/beignets-task-guide.png'))\n",
    "img = img.convert('RGB')\n",
    "img = img.resize((224, 224))\n",
    "img_np = np.array(img).astype(np.float32)\n",
    "\n",
    "# Convert data to the shape the ONNX model expects\n",
    "input_data = np.transpose(img_np, (2, 0, 1))  # Convert to (C, H, W)\n",
    "input_data = np.expand_dims(input_data, axis=0)  # Add a batch dimension\n",
    "\n",
    "input_data.shape\n",
    "\n",
    "# Get input name from the model\n",
    "input_name = session.get_inputs()[0].name\n",
    "\n"
   ]
  },
  {
   "cell_type": "code",
   "execution_count": 5,
   "id": "d165d3bd-92ab-4d21-9324-4348943998e2",
   "metadata": {
    "tags": []
   },
   "outputs": [
    {
     "name": "stdout",
     "output_type": "stream",
     "text": [
      "10 ms ± 71.8 µs per loop (mean ± std. dev. of 7 runs, 100 loops each)\n"
     ]
    }
   ],
   "source": [
    "%%timeit\n",
    "# Perform inference\n",
    "output = session.run(None, {input_name: input_data})"
   ]
  },
  {
   "cell_type": "code",
   "execution_count": null,
   "id": "58db0b77-b524-41cb-8350-c4358a3c17ff",
   "metadata": {},
   "outputs": [],
   "source": []
  }
 ],
 "metadata": {
  "kernelspec": {
   "display_name": "Python 3 (ipykernel)",
   "language": "python",
   "name": "python3"
  },
  "language_info": {
   "codemirror_mode": {
    "name": "ipython",
    "version": 3
   },
   "file_extension": ".py",
   "mimetype": "text/x-python",
   "name": "python",
   "nbconvert_exporter": "python",
   "pygments_lexer": "ipython3",
   "version": "3.10.13"
  }
 },
 "nbformat": 4,
 "nbformat_minor": 5
}
